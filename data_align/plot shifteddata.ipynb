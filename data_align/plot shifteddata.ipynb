{
 "cells": [
  {
   "cell_type": "code",
   "execution_count": 1,
   "id": "5a57b775",
   "metadata": {},
   "outputs": [],
   "source": [
    "import numpy as np\n",
    "import matplotlib.pyplot as plt\n",
    "import os\n",
    "import subprocess\n",
    "import pandas as pd\n",
    "import shutil\n",
    "import scipy.optimize as op\n",
    "%matplotlib notebook"
   ]
  },
  {
   "cell_type": "code",
   "execution_count": 2,
   "id": "cd87aac5",
   "metadata": {},
   "outputs": [],
   "source": [
    "#reads the alldata file (as is from rattrap) and returns a temp list with the data in file \n",
    "def read_data_file(filename):\n",
    "    temp_list = []\n",
    "    try:\n",
    "        file = open(filename, \"r\")\n",
    "        start_reading = False\n",
    "        for line in file:\n",
    "            line = line.split('\\t') # tab separated columns\n",
    "            if start_reading:\n",
    "                temp_list.append(np.array(line))\n",
    "            if \"Energy_(eV)\" in line:\n",
    "                # keeping track of data versus headers and comments\n",
    "                Title = line\n",
    "                Title[-1] = line[-1].format().replace('\\n','')\n",
    "                start_reading = True\n",
    "    finally:\n",
    "        file.close()\n",
    "    return temp_list"
   ]
  },
  {
   "cell_type": "code",
   "execution_count": 3,
   "id": "35dfa7de",
   "metadata": {},
   "outputs": [],
   "source": [
    "directory = 'Shifted data_cm'"
   ]
  },
  {
   "cell_type": "code",
   "execution_count": 4,
   "id": "72bc63b1",
   "metadata": {},
   "outputs": [
    {
     "name": "stdout",
     "output_type": "stream",
     "text": [
      "35\n",
      "['1m0m115c_norm_shifted.txt', '1m0m135c_norm_shifted.txt', '1m0m25C_norm_shifted.txt', '1m0m60C_norm_shifted.txt', '1m0m90C_norm_shifted.txt', '1m10m115C_norm_shifted.txt', '1m10m135C_norm_shifted.txt', '1m10m25C_norm_shifted.txt', '1m10m60C_norm_shifted.txt', '1m10m90C_norm_shifted.txt', '1m1m115c_norm_shifted.txt', '1m1m135c_norm_shifted.txt', '1m1m25C_norm_shifted.txt', '1m1m60C_norm_shifted.txt', '1m1m90C_norm_shifted.txt', '1m2m115C_norm_shifted.txt', '1m2m135C_norm_shifted.txt', '1m2m25C_norm_shifted.txt', '1m2m60C_norm_shifted.txt', '1m2m90C_norm_shifted.txt', '1m3m115c_norm_shifted.txt', '1m3m135c_norm_shifted.txt', '1m3m25C_norm_shifted.txt', '1m3m60C_norm_shifted.txt', '1m3m90C_norm_shifted.txt', '1m5m115c_norm_shifted.txt', '1m5m135c_norm_shifted.txt', '1m5m25C_norm_shifted.txt', '1m5m60C_norm_shifted.txt', '1m5m90C_norm_shifted.txt', '1mzntfms115c_norm_shifted.txt', '1mzntfms135c_norm_shifted.txt', '1mzntfms25C_norm_shifted.txt', '1ZnNO32_0p2m_norm_shifted_renorm_shifted_shifted.txt', '4ZnCl2_1m_LiCl_10m_norm_shifted_renorm_shifted_shifted.txt']\n"
     ]
    }
   ],
   "source": [
    "file_list = [f for f in os.listdir(directory) if 'shifted' in f]\n",
    "F = len(file_list)\n",
    "print(F)\n",
    "print(file_list)"
   ]
  },
  {
   "cell_type": "code",
   "execution_count": null,
   "id": "ac36d001",
   "metadata": {},
   "outputs": [],
   "source": [
    "# Data will be a 3D list that will be [batch number, row, column]\n",
    "# where the rows and columns are the same from rat trap all data files\n",
    "Data = []"
   ]
  },
  {
   "cell_type": "code",
   "execution_count": null,
   "id": "2c2ce274",
   "metadata": {},
   "outputs": [],
   "source": [
    "# read in every alldata file in the given directory\n",
    "for filename in file_list:\n",
    "    Data.append(np.array(read_data_file(f'{directory}/{filename}'))) \n"
   ]
  },
  {
   "cell_type": "code",
   "execution_count": null,
   "id": "096567de",
   "metadata": {
    "scrolled": false
   },
   "outputs": [],
   "source": [
    "# convert list to array\n",
    "Data = np.array(Data, dtype=float)\n",
    "#print(Data)\n",
    "plt.plot(Data[0,:,0], Data[0,:,1], label = '1m0m115C', color = 'r')\n",
    "plt.plot(Data[1,:,0], Data[1,:,1], label = '1m0m135C', color = 'b')\n",
    "plt.plot(Data[2,:,0], Data[2,:,1], label = '1m0m25C', color = 'b')\n",
    "plt.plot(Data[3,:,0], Data[3,:,1], label = '1m0m60C', color = 'k')\n",
    "plt.plot(Data[4,:,0], Data[4,:,1], label = '1m0m90C', color = 'c')\n",
    "#plt.plot(Data[5,:,0], Data[5,:,1], label = '1m3m115C')\n",
    "#plt.plot(Data[6,:,0], Data[6,:,1], label = '1m3m135C')\n",
    "#plt.plot(Data[7,:,0], Data[7,:,1], label = '1m5m115C')\n",
    "#plt.plot(Data[8,:,0], Data[8,:,1], label = '1m5m135C')\n",
    "#plt.plot(Data[9,:,0], Data[9,:,1], label = '1mzntfms25C')\n",
    "#plt.plot(Data[10,:,0], Data[10,:,1], label = '0.2m Zn(NO3)2')\n",
    "#plt.plot(Data[11,:,0], Data[11,:,1], label = '1m10m-bulk25C')\n",
    "\n",
    "\n",
    "plt.legend()"
   ]
  },
  {
   "cell_type": "code",
   "execution_count": null,
   "id": "93bb4692",
   "metadata": {},
   "outputs": [],
   "source": []
  }
 ],
 "metadata": {
  "kernelspec": {
   "display_name": "Python 3 (ipykernel)",
   "language": "python",
   "name": "python3"
  },
  "language_info": {
   "codemirror_mode": {
    "name": "ipython",
    "version": 3
   },
   "file_extension": ".py",
   "mimetype": "text/x-python",
   "name": "python",
   "nbconvert_exporter": "python",
   "pygments_lexer": "ipython3",
   "version": "3.9.13"
  }
 },
 "nbformat": 4,
 "nbformat_minor": 5
}
