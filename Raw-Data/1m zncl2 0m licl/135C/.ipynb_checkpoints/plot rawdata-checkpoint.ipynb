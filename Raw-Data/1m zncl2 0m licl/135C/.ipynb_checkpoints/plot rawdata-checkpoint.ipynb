{
 "cells": [
  {
   "cell_type": "code",
   "execution_count": null,
   "id": "5a57b775",
   "metadata": {},
   "outputs": [],
   "source": []
  },
  {
   "cell_type": "code",
   "execution_count": null,
   "id": "cd87aac5",
   "metadata": {},
   "outputs": [],
   "source": [
    "#reads the alldata file (as is from rattrap) and returns a temp list with the data in file \n",
    "def read_alldata_file(filename):\n",
    "    temp_list = []\n",
    "    try:\n",
    "        file = open(filename, \"r\")\n",
    "        start_reading = False\n",
    "        for line in file:\n",
    "            line = line.split('\\t') # tab separated columns\n",
    "            if start_reading:\n",
    "                temp_list.append(np.array(line))\n",
    "            if \"Energy_(eV)\" in line:\n",
    "                # keeping track of data versus headers and comments\n",
    "                Title = line\n",
    "                Title[-1] = line[-1].format().replace('\\n','')\n",
    "                start_reading = True\n",
    "    finally:\n",
    "        file.close()\n",
    "    return temp_list"
   ]
  },
  {
   "cell_type": "code",
   "execution_count": null,
   "id": "35dfa7de",
   "metadata": {},
   "outputs": [],
   "source": [
    "directory = 'Rawdata'"
   ]
  },
  {
   "cell_type": "code",
   "execution_count": null,
   "id": "72bc63b1",
   "metadata": {},
   "outputs": [],
   "source": [
    "folder_list = [f for f in os.listdir(directory)]\n",
    "F = len(folder_list)\n",
    "\n",
    "print(F)\n",
    "#print(folder_list)"
   ]
  },
  {
   "cell_type": "code",
   "execution_count": null,
   "id": "91e50120",
   "metadata": {},
   "outputs": [],
   "source": [
    "file_list = []\n",
    "for i in folder_list:\n",
    "    #print(i)\n",
    "    # generates a list of all the alldata files in specified directory\n",
    "    new_list = [f for f in os.listdir(f'{directory}/{i}') if 'alldata' in f]\n",
    "    file_list.append(new_list)\n",
    "    N = len(file_list)  #N gives length of first dimension, the number of folders (samples) in the directroy, N=F from above\n",
    "print(N)"
   ]
  },
  {
   "cell_type": "code",
   "execution_count": null,
   "id": "ac36d001",
   "metadata": {},
   "outputs": [],
   "source": [
    "# Data will be a 3D list that will be [batch number, row, column]\n",
    "# where the rows and columns are the same from rat trap all data files\n",
    "Data = []\n",
    "# Headers will list which column corresponds to which property, i.e. energy or counts per live\n",
    "Headers = []\n",
    "\n",
    "# if user doesn't adjust energyregions for plotting and normalizing,\n",
    "# default setting is set to entire region\n",
    "start_energy, end_energy = 0, 10e8"
   ]
  },
  {
   "cell_type": "code",
   "execution_count": null,
   "id": "2c2ce274",
   "metadata": {},
   "outputs": [],
   "source": [
    "# read in every all data file\n",
    "for folder in folder_list:\n",
    "    item = file_list[folder_list.index(folder)]\n",
    "    #print(folder)\n",
    "    #print(item)\n",
    "    for filename in item:\n",
    "        Data.append(np.array(fun.read_alldata_file(f'{directory}/{folder}/{filename}'))) \n",
    "\n",
    "# convert list to array\n",
    "Data = np.array(Data, dtype=float)"
   ]
  }
 ],
 "metadata": {
  "kernelspec": {
   "display_name": "Python 3 (ipykernel)",
   "language": "python",
   "name": "python3"
  },
  "language_info": {
   "codemirror_mode": {
    "name": "ipython",
    "version": 3
   },
   "file_extension": ".py",
   "mimetype": "text/x-python",
   "name": "python",
   "nbconvert_exporter": "python",
   "pygments_lexer": "ipython3",
   "version": "3.9.13"
  }
 },
 "nbformat": 4,
 "nbformat_minor": 5
}
