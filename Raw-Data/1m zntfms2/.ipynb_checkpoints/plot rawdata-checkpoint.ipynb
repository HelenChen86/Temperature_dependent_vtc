{
 "cells": [
  {
   "cell_type": "code",
   "execution_count": null,
   "id": "5a57b775",
   "metadata": {},
   "outputs": [],
   "source": [
    "import numpy as np\n",
    "import matplotlib.pyplot as plt\n",
    "import os\n",
    "import subprocess\n",
    "import pandas as pd\n",
    "import shutil\n",
    "import scipy.optimize as op\n",
    "%matplotlib notebook"
   ]
  },
  {
   "cell_type": "code",
   "execution_count": null,
   "id": "cd87aac5",
   "metadata": {},
   "outputs": [],
   "source": [
    "#reads the alldata file (as is from rattrap) and returns a temp list with the data in file \n",
    "def read_alldata_file(filename):\n",
    "    temp_list = []\n",
    "    try:\n",
    "        file = open(filename, \"r\")\n",
    "        start_reading = False\n",
    "        for line in file:\n",
    "            line = line.split('\\t') # tab separated columns\n",
    "            if start_reading:\n",
    "                temp_list.append(np.array(line))\n",
    "            if \"Energy_(eV)\" in line:\n",
    "                # keeping track of data versus headers and comments\n",
    "                Title = line\n",
    "                Title[-1] = line[-1].format().replace('\\n','')\n",
    "                start_reading = True\n",
    "    finally:\n",
    "        file.close()\n",
    "    return temp_list"
   ]
  },
  {
   "cell_type": "code",
   "execution_count": null,
   "id": "35dfa7de",
   "metadata": {},
   "outputs": [],
   "source": [
    "directory = '60C'"
   ]
  },
  {
   "cell_type": "code",
   "execution_count": null,
   "id": "72bc63b1",
   "metadata": {},
   "outputs": [],
   "source": [
    "file_list = [f for f in os.listdir(directory) if 'alldata' in f]\n",
    "F = len(file_list)\n",
    "print(F)\n",
    "print(file_list)"
   ]
  },
  {
   "cell_type": "code",
   "execution_count": null,
   "id": "ac36d001",
   "metadata": {},
   "outputs": [],
   "source": [
    "# Data will be a 3D list that will be [batch number, row, column]\n",
    "# where the rows and columns are the same from rat trap all data files\n",
    "Data = []"
   ]
  },
  {
   "cell_type": "code",
   "execution_count": null,
   "id": "2c2ce274",
   "metadata": {},
   "outputs": [],
   "source": [
    "# read in every alldata file in the given directory\n",
    "for filename in file_list:\n",
    "    Data.append(np.array(read_alldata_file(f'{directory}/{filename}'))) \n"
   ]
  },
  {
   "cell_type": "code",
   "execution_count": null,
   "id": "096567de",
   "metadata": {},
   "outputs": [],
   "source": [
    "# convert list to array\n",
    "Data = np.array(Data, dtype=float)\n",
    "#print(Data)\n",
    "plt.plot(Data[0,:,0], Data[0,:,8], label = 's0')\n",
    "plt.plot(Data[1,:,0], Data[1,:,8], label = 's1')\n",
    "plt.plot(Data[2,:,0], Data[2,:,8], label = 's2')\n",
    "plt.plot(Data[3,:,0], Data[3,:,8], label = 's3')\n",
    "plt.plot(Data[4,:,0], Data[4,:,8], label = 's4')\n",
    "plt.plot(Data[5,:,0], Data[5,:,8], label = 's5')\n",
    "plt.plot(Data[6,:,0], Data[6,:,8], label = 's6')\n",
    "plt.plot(Data[7,:,0], Data[7,:,8], label = 's7')\n",
    "plt.plot(Data[8,:,0], Data[8,:,8], label = 's8')\n",
    "plt.plot(Data[9,:,0], Data[9,:,8], label = 's9')\n",
    "plt.plot(Data[10,:,0], Data[10,:,8], label = 's10')\n",
    "plt.plot(Data[11,:,0], Data[11,:,8], label = 's11')\n",
    "\n",
    "\n",
    "\n",
    "plt.legend()"
   ]
  },
  {
   "cell_type": "code",
   "execution_count": null,
   "id": "93bb4692",
   "metadata": {},
   "outputs": [],
   "source": []
  }
 ],
 "metadata": {
  "kernelspec": {
   "display_name": "Python 3 (ipykernel)",
   "language": "python",
   "name": "python3"
  },
  "language_info": {
   "codemirror_mode": {
    "name": "ipython",
    "version": 3
   },
   "file_extension": ".py",
   "mimetype": "text/x-python",
   "name": "python",
   "nbconvert_exporter": "python",
   "pygments_lexer": "ipython3",
   "version": "3.9.13"
  }
 },
 "nbformat": 4,
 "nbformat_minor": 5
}
