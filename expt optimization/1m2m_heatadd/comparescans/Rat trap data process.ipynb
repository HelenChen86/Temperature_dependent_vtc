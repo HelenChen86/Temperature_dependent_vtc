{
 "cells": [
  {
   "cell_type": "markdown",
   "metadata": {},
   "source": [
    "# This Notebook reads in all data files from rat trap files for a given directory and processes them"
   ]
  },
  {
   "cell_type": "code",
   "execution_count": 1,
   "metadata": {},
   "outputs": [],
   "source": [
    "import numpy as np\n",
    "import matplotlib.pyplot as plt\n",
    "import os\n",
    "import subprocess\n",
    "import pandas as pd\n",
    "import shutil\n",
    "import scipy.optimize as op\n",
    "import avg_bkg_norm_func as fun"
   ]
  },
  {
   "cell_type": "markdown",
   "metadata": {},
   "source": [
    "## Reading in Data"
   ]
  },
  {
   "cell_type": "code",
   "execution_count": 2,
   "metadata": {},
   "outputs": [],
   "source": [
    "# can also make a list of directories for more than one sample as a future mod"
   ]
  },
  {
   "cell_type": "markdown",
   "metadata": {},
   "source": [
    "============== Specify Directory here =============="
   ]
  },
  {
   "cell_type": "code",
   "execution_count": 3,
   "metadata": {},
   "outputs": [],
   "source": [
    "directory = 'Rawdata'"
   ]
  },
  {
   "cell_type": "markdown",
   "metadata": {},
   "source": [
    "=============================================="
   ]
  },
  {
   "cell_type": "code",
   "execution_count": 4,
   "metadata": {},
   "outputs": [],
   "source": [
    "# checks that the directory exists and throws error if not\n",
    "assert os.path.exists(f'{directory}/'), f'No directory with the name {directory} in current folder'"
   ]
  },
  {
   "cell_type": "markdown",
   "metadata": {},
   "source": [
    "make a list of folders in the directory"
   ]
  },
  {
   "cell_type": "code",
   "execution_count": 5,
   "metadata": {},
   "outputs": [
    {
     "name": "stdout",
     "output_type": "stream",
     "text": [
      "11\n"
     ]
    }
   ],
   "source": [
    "folder_list = [f for f in os.listdir(directory)]\n",
    "F = len(folder_list)\n",
    "\n",
    "print(F)\n",
    "#print(folder_list)"
   ]
  },
  {
   "cell_type": "markdown",
   "metadata": {},
   "source": [
    "make lists of files in each folder"
   ]
  },
  {
   "cell_type": "code",
   "execution_count": 6,
   "metadata": {},
   "outputs": [
    {
     "name": "stdout",
     "output_type": "stream",
     "text": [
      "11\n"
     ]
    }
   ],
   "source": [
    "file_list = []\n",
    "for i in folder_list:\n",
    "    #print(i)\n",
    "    # generates a list of all the alldata files in specified directory\n",
    "    new_list = [f for f in os.listdir(f'{directory}/{i}') if 'alldata' in f]\n",
    "    file_list.append(new_list)\n",
    "    N = len(file_list)  #N gives length of first dimension, the number of folders (samples) in the directroy, N=F from above\n",
    "print(N)"
   ]
  },
  {
   "cell_type": "markdown",
   "metadata": {},
   "source": [
    "#### Declaring data variables"
   ]
  },
  {
   "cell_type": "code",
   "execution_count": 7,
   "metadata": {},
   "outputs": [],
   "source": [
    "# Data will be a 3D list that will be [batch number, row, column]\n",
    "# where the rows and columns are the same from rat trap all data files\n",
    "Data = []\n",
    "# Headers will list which column corresponds to which property, i.e. energy or counts per live\n",
    "Headers = []\n",
    "\n",
    "# if user doesn't adjust energyregions for plotting and normalizing,\n",
    "# default setting is set to entire region\n",
    "start_energy, end_energy = 0, 10e8"
   ]
  },
  {
   "cell_type": "code",
   "execution_count": 8,
   "metadata": {},
   "outputs": [],
   "source": [
    "# read in every all data file\n",
    "for folder in folder_list:\n",
    "    item = file_list[folder_list.index(folder)]\n",
    "    #print(folder)\n",
    "    #print(item)\n",
    "    for filename in item:\n",
    "        Data.append(np.array(fun.read_alldata_file(f'{directory}/{folder}/{filename}'))) \n",
    "\n",
    "# convert list to array\n",
    "Data = np.array(Data, dtype=float)\n"
   ]
  },
  {
   "cell_type": "markdown",
   "metadata": {},
   "source": [
    "To check which columns correspond to which property, print Headers list"
   ]
  },
  {
   "cell_type": "code",
   "execution_count": 9,
   "metadata": {},
   "outputs": [
    {
     "name": "stdout",
     "output_type": "stream",
     "text": [
      "11\n"
     ]
    }
   ],
   "source": [
    "Energy = Data[0,:,0] # eV \n",
    "avg = []\n",
    "a = 0\n",
    "\n",
    "for i in range(N): \n",
    "    j = len(file_list[i])\n",
    "    k = a + j\n",
    "    counts = Data[a:k,:,8] #counts per live are the 9th colum\n",
    "    # find average over all batches\n",
    "    avg.append(np.sum(counts, 0)/j)  \n",
    "    a += j\n",
    "        \n",
    "avg = np.array(avg, dtype=float)\n",
    "print(len(avg))"
   ]
  },
  {
   "cell_type": "code",
   "execution_count": 10,
   "metadata": {},
   "outputs": [
    {
     "data": {
      "image/png": "[encoded data removed]",
      "text/plain": [
       "<Figure size 432x288 with 1 Axes>"
      ]
     },
     "metadata": {
      "needs_background": "light"
     },
     "output_type": "display_data"
    }
   ],
   "source": [
    "for i in range(len(avg)):   #length of first dimension (no of files)\n",
    "    avg_c = avg[[i],:]\n",
    "    avg_cnts = avg_c.flatten()\n",
    "    #plt.plot(Energy, avg_cnts)\n",
    "    #write each averaged data to .txt file in the folder 'Averaged & Normalized'\n",
    "    #filename will be from the name of the folder where the files came from :foldername_avgd\n",
    "    write = True\n",
    "    if write:\n",
    "        fun.write_to_file(Energy, avg_cnts, f'{folder_list[i]}_avgd')\n",
    "    \n",
    "    #Specify energy range of interest (ROI) to fit a background here\n",
    "    start_energy, end_energy = 9689, 9699\n",
    "    \n",
    "    #get the indices for ROI to fit background\n",
    "    start, end = fun.get_E_region(Energy, start_energy, end_energy)\n",
    "\n",
    "    # takes the last values of the spectrum starting at the specified energy\n",
    "    y = avg_cnts[start:end] \n",
    "\n",
    "    starting_param_vals = np.array([0.0]) #constant background: single parameter fit\n",
    "\n",
    "    # perform minimization routine\n",
    "    optimized_background = op.minimize(fun.loss, starting_param_vals, args=(y), method='BFGS')\n",
    "    #print(optimized_background['message'])\n",
    "    b = optimized_background['x']\n",
    "    \n",
    "    \n",
    "    #Pick energy range (ROI) to normalize here \n",
    "    start_energy, end_energy = 9550, 9600\n",
    "    #get the indices for ROI to normalize\n",
    "    E_range = fun.get_E_region(Energy, start_energy, end_energy)\n",
    "\n",
    "    # Normalize : include constant background subtraction here\n",
    "    avg_cnts_norm = fun.Normalize(avg_cnts - b, Energy, E_range) \n",
    "\n",
    "    #Write normalized data to file\n",
    "    write = True\n",
    "    # note: this will overwrite any files with the same name\n",
    "    # name specified from folder name from whence the batches came from\n",
    "    if write:\n",
    "        fun.write_to_file(Energy, avg_cnts_norm, f'{folder_list[i]}_norm')\n",
    "\n",
    "    #Plot final spectra\n",
    "    #Pick energy range for plotting here \n",
    "    start_energy, end_energy = 9550, 9600\n",
    "    #get indices for ROI to plot\n",
    "    start, end = fun.get_E_region(Energy, start_energy, end_energy)\n",
    "    #fun.plot(Energy[start:end], avg_cnts_norm[start:end], f'Normalized {folder_list[i]} VTC', save=False)\n",
    "    plt.plot(Energy[start:end], avg_cnts_norm[start:end], label=f'{folder_list[i]}')\n",
    "    plt.legend()\n"
   ]
  },
  {
   "cell_type": "code",
   "execution_count": null,
   "metadata": {},
   "outputs": [],
   "source": []
  }
 ],
 "metadata": {
  "kernelspec": {
   "display_name": "Python 3",
   "language": "python",
   "name": "python3"
  },
  "language_info": {
   "codemirror_mode": {
    "name": "ipython",
    "version": 3
   },
   "file_extension": ".py",
   "mimetype": "text/x-python",
   "name": "python",
   "nbconvert_exporter": "python",
   "pygments_lexer": "ipython3",
   "version": "3.7.6"
  }
 },
 "nbformat": 4,
 "nbformat_minor": 2
}
